{
 "cells": [
  {
   "cell_type": "code",
   "execution_count": 7,
   "metadata": {},
   "outputs": [
    {
     "name": "stdout",
     "output_type": "stream",
     "text": [
      "1.2 is greater than 1.1\n",
      "1.2 is greater than 1.1\n",
      "1.1 and 1.1 are the same version!\n",
      "2.0 is greater than 1.9.9.9.9\n",
      "6.5.4.3 is greater than 3.4.5.6\n",
      "1.44 is greater than 1.4\n",
      "1.1.1 is greater than 1\n",
      "1.0 and 1 are the same version!\n",
      "1.1 and 1.1 are the same version!\n",
      "33.2345.35 is greater than 33.2345.34\n",
      "5 is greater than 4\n",
      "7.3 is greater than 3.7\n",
      "2.0 is greater than 1.999999999999\n",
      "complete.\n"
     ]
    }
   ],
   "source": [
    "#The goal of this question is to write a software library that accepts 2 version string as input and returns whether one is greater than, equal, or less than the other. As an example: “1.2” is greater than “1.1”. Please provide all test cases you could think of.\n",
    "import math\n",
    "from qbTest import getMostRecent\n",
    "\n",
    "def QBTest():\n",
    "    print(getMostRecent(\"1.1\", \"1.2\"))\n",
    "    print(getMostRecent(\"1.2\", \"1.1\"))\n",
    "    print(getMostRecent(\"1.1\", \"1.1\"))\n",
    "    print(getMostRecent(\"1.9.9.9.9\", \"2.0\"))\n",
    "    print(getMostRecent(\"3.4.5.6\", \"6.5.4.3\"))\n",
    "    print(getMostRecent(\"1.44\", \"1.4\"))\n",
    "    print(getMostRecent(\"1\", \"1.1.1\"))\n",
    "    print(getMostRecent(\"1\", \"1.0\"))\n",
    "    print(getMostRecent(\"1.1\", \"1.1\"))\n",
    "    print(getMostRecent(\"33.2345.34\", \"33.2345.35\"))\n",
    "    print(getMostRecent(\"5\", \"4\"))\n",
    "    print(getMostRecent(\"3.7\", \"7.3\"))\n",
    "    print(getMostRecent(\"1.999999999999\", \"2.0\"))\n",
    "    print(\"complete.\")\n",
    "    \n",
    "QBTest()"
   ]
  },
  {
   "cell_type": "code",
   "execution_count": null,
   "metadata": {
    "collapsed": true
   },
   "outputs": [],
   "source": []
  }
 ],
 "metadata": {
  "kernelspec": {
   "display_name": "Python 3",
   "language": "python",
   "name": "python3"
  },
  "language_info": {
   "codemirror_mode": {
    "name": "ipython",
    "version": 3
   },
   "file_extension": ".py",
   "mimetype": "text/x-python",
   "name": "python",
   "nbconvert_exporter": "python",
   "pygments_lexer": "ipython3",
   "version": "3.6.3"
  }
 },
 "nbformat": 4,
 "nbformat_minor": 2
}
